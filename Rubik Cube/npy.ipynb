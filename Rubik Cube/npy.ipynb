{
  "nbformat": 4,
  "nbformat_minor": 0,
  "metadata": {
    "colab": {
      "provenance": []
    },
    "kernelspec": {
      "name": "python3",
      "display_name": "Python 3"
    },
    "language_info": {
      "name": "python"
    }
  },
  "cells": [
    {
      "cell_type": "markdown",
      "source": [
        "# We manually determined and selected matching points by obtaining their coordinates from Google Paint. In this process, we carefully identified and recorded the coordinates of 16 points to create a set of matching points."
      ],
      "metadata": {
        "id": "DnWE-ec_VCgs"
      }
    },
    {
      "cell_type": "code",
      "execution_count": 12,
      "metadata": {
        "colab": {
          "base_uri": "https://localhost:8080/"
        },
        "id": "31o2iDBDBLjm",
        "outputId": "eec9ec66-a2af-4a46-bf9d-9ef83099d81c"
      },
      "outputs": [
        {
          "output_type": "stream",
          "name": "stdout",
          "text": [
            "Array data:\n",
            "[[ 529  194    1]\n",
            " [ 985   96    1]\n",
            " [1435  201    1]\n",
            " [1413  790    1]\n",
            " [ 969  988    1]\n",
            " [ 969  320    1]\n",
            " [ 547  780    1]\n",
            " [ 661  444    1]\n",
            " [ 801  492    1]\n",
            " [ 807  716    1]\n",
            " [ 667  652    1]\n",
            " [1137  508    1]\n",
            " [1299  452    1]\n",
            " [1293  662    1]\n",
            " [1139  720    1]\n",
            " [ 979  226    1]]\n"
          ]
        }
      ],
      "source": [
        "import numpy as np\n",
        "\n",
        "# Load the .npy file\n",
        "file_path = 'right.npy'\n",
        "array_data = np.load(file_path)\n",
        "\n",
        "# Change the first entry to [500, 499, 1]\n",
        "new_value = np.array([529, 194, 1])\n",
        "array_data[0] = new_value\n",
        "new_value = np.array([985, 96, 1])\n",
        "array_data[1] = new_value\n",
        "new_value = np.array([1435, 201, 1])\n",
        "array_data[2] = new_value\n",
        "new_value = np.array([1413, 790, 1])\n",
        "array_data[3] = new_value\n",
        "new_value = np.array([969, 988, 1])\n",
        "array_data[4] = new_value\n",
        "new_value = np.array([969, 320, 1])\n",
        "array_data[5] = new_value\n",
        "new_value = np.array([547, 780, 1])\n",
        "array_data[6] = new_value\n",
        "new_value = np.array([661, 444, 1])\n",
        "array_data[7] = new_value\n",
        "new_value = np.array([801, 492, 1])\n",
        "array_data[8] = new_value\n",
        "new_value = np.array([807, 716, 1])\n",
        "array_data[9] = new_value\n",
        "new_value = np.array([667, 652, 1])\n",
        "array_data[10] = new_value\n",
        "new_value = np.array([1137, 508, 1])\n",
        "array_data[11] = new_value\n",
        "new_value = np.array([1299, 452, 1])\n",
        "array_data[12] = new_value\n",
        "new_value = np.array([1293, 662, 1])\n",
        "array_data[13] = new_value\n",
        "new_value = np.array([1139, 720, 1])\n",
        "array_data[14] = new_value\n",
        "new_value = np.array([979, 226, 1])\n",
        "array_data[15] = new_value\n",
        "# Save the modified array back to the .npy file\n",
        "np.save(file_path, array_data)\n",
        "# Print or inspect the array data\n",
        "print(\"Array data:\")\n",
        "print(array_data)"
      ]
    },
    {
      "cell_type": "code",
      "source": [
        "import numpy as np\n",
        "\n",
        "# Load the .npy file\n",
        "file_path = 'left.npy'\n",
        "array_data = np.load(file_path)\n",
        "\n",
        "# Change the first entry to [500, 499, 1]\n",
        "new_value = np.array([1390, 194, 1])\n",
        "array_data[0] = new_value\n",
        "new_value = np.array([928, 96, 1])\n",
        "array_data[1] = new_value\n",
        "new_value = np.array([482, 201, 1])\n",
        "array_data[2] = new_value\n",
        "new_value = np.array([504, 790, 1])\n",
        "array_data[3] = new_value\n",
        "new_value = np.array([950, 988, 1])\n",
        "array_data[4] = new_value\n",
        "new_value = np.array([950, 320, 1])\n",
        "array_data[5] = new_value\n",
        "new_value = np.array([1370, 780, 1])\n",
        "array_data[6] = new_value\n",
        "new_value = np.array([1260, 444, 1])\n",
        "array_data[7] = new_value\n",
        "new_value = np.array([1114, 492, 1])\n",
        "array_data[8] = new_value\n",
        "new_value = np.array([1110, 716, 1])\n",
        "array_data[9] = new_value\n",
        "new_value = np.array([1250, 652, 1])\n",
        "array_data[10] = new_value\n",
        "new_value = np.array([776, 508, 1])\n",
        "array_data[11] = new_value\n",
        "new_value = np.array([624, 452, 1])\n",
        "array_data[12] = new_value\n",
        "new_value = np.array([626, 662, 1])\n",
        "array_data[13] = new_value\n",
        "new_value = np.array([780, 720, 1])\n",
        "array_data[14] = new_value\n",
        "new_value = np.array([936, 226, 1])\n",
        "array_data[15] = new_value\n",
        "# Save the modified array back to the .npy file\n",
        "np.save(file_path, array_data)\n",
        "# Print or inspect the array data\n",
        "print(\"Array data:\")\n",
        "print(array_data)"
      ],
      "metadata": {
        "colab": {
          "base_uri": "https://localhost:8080/"
        },
        "id": "9hqWbz2iE4Ip",
        "outputId": "a8f9beaf-d740-466f-ef7d-7b8518ae7726"
      },
      "execution_count": 14,
      "outputs": [
        {
          "output_type": "stream",
          "name": "stdout",
          "text": [
            "Array data:\n",
            "[[1390  194    1]\n",
            " [ 928   96    1]\n",
            " [ 482  201    1]\n",
            " [ 504  790    1]\n",
            " [ 950  988    1]\n",
            " [ 950  320    1]\n",
            " [1370  780    1]\n",
            " [1260  444    1]\n",
            " [1114  492    1]\n",
            " [1110  716    1]\n",
            " [1250  652    1]\n",
            " [ 776  508    1]\n",
            " [ 624  452    1]\n",
            " [ 626  662    1]\n",
            " [ 780  720    1]\n",
            " [ 936  226    1]]\n"
          ]
        }
      ]
    },
    {
      "cell_type": "code",
      "source": [],
      "metadata": {
        "id": "iNKB1JoyDeY-"
      },
      "execution_count": null,
      "outputs": []
    }
  ]
}